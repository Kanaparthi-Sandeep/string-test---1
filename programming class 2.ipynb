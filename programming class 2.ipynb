{
 "cells": [
  {
   "cell_type": "code",
   "execution_count": 1,
   "id": "595adccc",
   "metadata": {},
   "outputs": [],
   "source": [
    "s=\"ineuron\""
   ]
  },
  {
   "cell_type": "code",
   "execution_count": 2,
   "id": "ef2dcdeb",
   "metadata": {},
   "outputs": [
    {
     "data": {
      "text/plain": [
       "str"
      ]
     },
     "execution_count": 2,
     "metadata": {},
     "output_type": "execute_result"
    }
   ],
   "source": [
    "type(s)"
   ]
  },
  {
   "cell_type": "code",
   "execution_count": 3,
   "id": "36166588",
   "metadata": {},
   "outputs": [
    {
     "data": {
      "text/plain": [
       "'i'"
      ]
     },
     "execution_count": 3,
     "metadata": {},
     "output_type": "execute_result"
    }
   ],
   "source": [
    "s[0]"
   ]
  },
  {
   "cell_type": "code",
   "execution_count": 4,
   "id": "e5ee00f1",
   "metadata": {},
   "outputs": [
    {
     "data": {
      "text/plain": [
       "'e'"
      ]
     },
     "execution_count": 4,
     "metadata": {},
     "output_type": "execute_result"
    }
   ],
   "source": [
    "s[2]"
   ]
  },
  {
   "cell_type": "code",
   "execution_count": 5,
   "id": "63360449",
   "metadata": {},
   "outputs": [
    {
     "data": {
      "text/plain": [
       "'r'"
      ]
     },
     "execution_count": 5,
     "metadata": {},
     "output_type": "execute_result"
    }
   ],
   "source": [
    "s[4]"
   ]
  },
  {
   "cell_type": "code",
   "execution_count": 6,
   "id": "734d5297",
   "metadata": {},
   "outputs": [
    {
     "data": {
      "text/plain": [
       "'n'"
      ]
     },
     "execution_count": 6,
     "metadata": {},
     "output_type": "execute_result"
    }
   ],
   "source": [
    "s[-1]"
   ]
  },
  {
   "cell_type": "code",
   "execution_count": 7,
   "id": "43cca25f",
   "metadata": {},
   "outputs": [
    {
     "data": {
      "text/plain": [
       "'r'"
      ]
     },
     "execution_count": 7,
     "metadata": {},
     "output_type": "execute_result"
    }
   ],
   "source": [
    "s[-3]"
   ]
  },
  {
   "cell_type": "code",
   "execution_count": 8,
   "id": "e46c0423",
   "metadata": {},
   "outputs": [],
   "source": [
    "s1 = 'sandeep'"
   ]
  },
  {
   "cell_type": "code",
   "execution_count": 9,
   "id": "e56a96d6",
   "metadata": {},
   "outputs": [
    {
     "data": {
      "text/plain": [
       "str"
      ]
     },
     "execution_count": 9,
     "metadata": {},
     "output_type": "execute_result"
    }
   ],
   "source": [
    "type(s1)"
   ]
  },
  {
   "cell_type": "code",
   "execution_count": 10,
   "id": "bcd5cc98",
   "metadata": {},
   "outputs": [
    {
     "data": {
      "text/plain": [
       "'e'"
      ]
     },
     "execution_count": 10,
     "metadata": {},
     "output_type": "execute_result"
    }
   ],
   "source": [
    "s1[-3]"
   ]
  },
  {
   "cell_type": "code",
   "execution_count": 13,
   "id": "89929dde",
   "metadata": {},
   "outputs": [],
   "source": [
    "s2 = \"this is my first programming class's\""
   ]
  },
  {
   "cell_type": "code",
   "execution_count": 14,
   "id": "9bead6bd",
   "metadata": {},
   "outputs": [
    {
     "data": {
      "text/plain": [
       "\"this is my first programming class's\""
      ]
     },
     "execution_count": 14,
     "metadata": {},
     "output_type": "execute_result"
    }
   ],
   "source": [
    "s2"
   ]
  },
  {
   "cell_type": "code",
   "execution_count": 15,
   "id": "02e37aea",
   "metadata": {},
   "outputs": [
    {
     "data": {
      "text/plain": [
       "str"
      ]
     },
     "execution_count": 15,
     "metadata": {},
     "output_type": "execute_result"
    }
   ],
   "source": [
    "type(s2)"
   ]
  },
  {
   "cell_type": "code",
   "execution_count": 16,
   "id": "f24f7c28",
   "metadata": {},
   "outputs": [
    {
     "data": {
      "text/plain": [
       "'y'"
      ]
     },
     "execution_count": 16,
     "metadata": {},
     "output_type": "execute_result"
    }
   ],
   "source": [
    "s2[9]"
   ]
  },
  {
   "cell_type": "code",
   "execution_count": 17,
   "id": "527c291e",
   "metadata": {},
   "outputs": [
    {
     "data": {
      "text/plain": [
       "' '"
      ]
     },
     "execution_count": 17,
     "metadata": {},
     "output_type": "execute_result"
    }
   ],
   "source": [
    "s2[10]"
   ]
  },
  {
   "cell_type": "code",
   "execution_count": 18,
   "id": "85dd5df3",
   "metadata": {},
   "outputs": [
    {
     "data": {
      "text/plain": [
       "'c'"
      ]
     },
     "execution_count": 18,
     "metadata": {},
     "output_type": "execute_result"
    }
   ],
   "source": [
    "s2[-7]"
   ]
  },
  {
   "cell_type": "code",
   "execution_count": 19,
   "id": "4c06becf",
   "metadata": {},
   "outputs": [
    {
     "data": {
      "text/plain": [
       "'his is '"
      ]
     },
     "execution_count": 19,
     "metadata": {},
     "output_type": "execute_result"
    }
   ],
   "source": [
    "s2[1:8]"
   ]
  },
  {
   "cell_type": "code",
   "execution_count": 20,
   "id": "11aeb1eb",
   "metadata": {},
   "outputs": [
    {
     "data": {
      "text/plain": [
       "'s my first pro'"
      ]
     },
     "execution_count": 20,
     "metadata": {},
     "output_type": "execute_result"
    }
   ],
   "source": [
    "s2[6:20]"
   ]
  },
  {
   "cell_type": "code",
   "execution_count": 22,
   "id": "58e06638",
   "metadata": {},
   "outputs": [
    {
     "data": {
      "text/plain": [
       "'sm is rgamn '"
      ]
     },
     "execution_count": 22,
     "metadata": {},
     "output_type": "execute_result"
    }
   ],
   "source": [
    "s2[6:30:2]"
   ]
  },
  {
   "cell_type": "code",
   "execution_count": 23,
   "id": "21cf9f6f",
   "metadata": {},
   "outputs": [],
   "source": [
    "a = \"sandeep\""
   ]
  },
  {
   "cell_type": "code",
   "execution_count": 25,
   "id": "df563102",
   "metadata": {},
   "outputs": [
    {
     "data": {
      "text/plain": [
       "'sandeep'"
      ]
     },
     "execution_count": 25,
     "metadata": {},
     "output_type": "execute_result"
    }
   ],
   "source": [
    "a[0:7:1]"
   ]
  },
  {
   "cell_type": "code",
   "execution_count": 26,
   "id": "760a19d9",
   "metadata": {},
   "outputs": [
    {
     "data": {
      "text/plain": [
       "'snep'"
      ]
     },
     "execution_count": 26,
     "metadata": {},
     "output_type": "execute_result"
    }
   ],
   "source": [
    "a[0:7:2]"
   ]
  },
  {
   "cell_type": "code",
   "execution_count": 27,
   "id": "fa82980f",
   "metadata": {},
   "outputs": [
    {
     "data": {
      "text/plain": [
       "'sandeep'"
      ]
     },
     "execution_count": 27,
     "metadata": {},
     "output_type": "execute_result"
    }
   ],
   "source": [
    "a"
   ]
  },
  {
   "cell_type": "code",
   "execution_count": 28,
   "id": "9d43332f",
   "metadata": {},
   "outputs": [
    {
     "data": {
      "text/plain": [
       "''"
      ]
     },
     "execution_count": 28,
     "metadata": {},
     "output_type": "execute_result"
    }
   ],
   "source": [
    "a[0:7:-1]"
   ]
  },
  {
   "cell_type": "code",
   "execution_count": 29,
   "id": "92bdca84",
   "metadata": {},
   "outputs": [
    {
     "data": {
      "text/plain": [
       "'peedna'"
      ]
     },
     "execution_count": 29,
     "metadata": {},
     "output_type": "execute_result"
    }
   ],
   "source": [
    "a[7:0:-1]"
   ]
  },
  {
   "cell_type": "code",
   "execution_count": 30,
   "id": "79b865a4",
   "metadata": {},
   "outputs": [
    {
     "data": {
      "text/plain": [
       "'nre'"
      ]
     },
     "execution_count": 30,
     "metadata": {},
     "output_type": "execute_result"
    }
   ],
   "source": [
    "s[8:0:-2]"
   ]
  },
  {
   "cell_type": "code",
   "execution_count": 31,
   "id": "08856ed4",
   "metadata": {},
   "outputs": [
    {
     "data": {
      "text/plain": [
       "'ineu'"
      ]
     },
     "execution_count": 31,
     "metadata": {},
     "output_type": "execute_result"
    }
   ],
   "source": [
    "s[:-3]"
   ]
  },
  {
   "cell_type": "code",
   "execution_count": 32,
   "id": "5ec960df",
   "metadata": {},
   "outputs": [
    {
     "data": {
      "text/plain": [
       "'sand'"
      ]
     },
     "execution_count": 32,
     "metadata": {},
     "output_type": "execute_result"
    }
   ],
   "source": [
    "a[:-3]"
   ]
  },
  {
   "cell_type": "code",
   "execution_count": 33,
   "id": "34bc9520",
   "metadata": {},
   "outputs": [
    {
     "data": {
      "text/plain": [
       "'ep'"
      ]
     },
     "execution_count": 33,
     "metadata": {},
     "output_type": "execute_result"
    }
   ],
   "source": [
    "a[-2:]"
   ]
  },
  {
   "cell_type": "code",
   "execution_count": 34,
   "id": "432ef6e5",
   "metadata": {},
   "outputs": [
    {
     "data": {
      "text/plain": [
       "'sandeep'"
      ]
     },
     "execution_count": 34,
     "metadata": {},
     "output_type": "execute_result"
    }
   ],
   "source": [
    "a[::1]"
   ]
  },
  {
   "cell_type": "code",
   "execution_count": 36,
   "id": "fe525a0e",
   "metadata": {},
   "outputs": [
    {
     "data": {
      "text/plain": [
       "'sandeep'"
      ]
     },
     "execution_count": 36,
     "metadata": {},
     "output_type": "execute_result"
    }
   ],
   "source": [
    "a[0:60:1]"
   ]
  },
  {
   "cell_type": "code",
   "execution_count": 37,
   "id": "35fbfd2e",
   "metadata": {},
   "outputs": [
    {
     "data": {
      "text/plain": [
       "'peednas'"
      ]
     },
     "execution_count": 37,
     "metadata": {},
     "output_type": "execute_result"
    }
   ],
   "source": [
    "a[::-1]"
   ]
  },
  {
   "cell_type": "code",
   "execution_count": 38,
   "id": "b8311308",
   "metadata": {},
   "outputs": [
    {
     "data": {
      "text/plain": [
       "\"this is my first programming class's\""
      ]
     },
     "execution_count": 38,
     "metadata": {},
     "output_type": "execute_result"
    }
   ],
   "source": [
    "s2"
   ]
  },
  {
   "cell_type": "code",
   "execution_count": 39,
   "id": "78ab4371",
   "metadata": {},
   "outputs": [
    {
     "data": {
      "text/plain": [
       "\"s'ssalc gnimmargorp tsrif ym si siht\""
      ]
     },
     "execution_count": 39,
     "metadata": {},
     "output_type": "execute_result"
    }
   ],
   "source": [
    "s2[::-1]"
   ]
  },
  {
   "cell_type": "code",
   "execution_count": 40,
   "id": "a22dfdae",
   "metadata": {},
   "outputs": [
    {
     "ename": "TypeError",
     "evalue": "can only concatenate str (not \"int\") to str",
     "output_type": "error",
     "traceback": [
      "\u001b[1;31m---------------------------------------------------------------------------\u001b[0m",
      "\u001b[1;31mTypeError\u001b[0m                                 Traceback (most recent call last)",
      "Input \u001b[1;32mIn [40]\u001b[0m, in \u001b[0;36m<cell line: 1>\u001b[1;34m()\u001b[0m\n\u001b[1;32m----> 1\u001b[0m \u001b[43ms\u001b[49m\u001b[43m \u001b[49m\u001b[38;5;241;43m+\u001b[39;49m\u001b[43m \u001b[49m\u001b[38;5;241;43m1\u001b[39;49m\n",
      "\u001b[1;31mTypeError\u001b[0m: can only concatenate str (not \"int\") to str"
     ]
    }
   ],
   "source": [
    "s + 1"
   ]
  },
  {
   "cell_type": "code",
   "execution_count": 41,
   "id": "fb8f32a2",
   "metadata": {},
   "outputs": [
    {
     "data": {
      "text/plain": [
       "'ineuron1'"
      ]
     },
     "execution_count": 41,
     "metadata": {},
     "output_type": "execute_result"
    }
   ],
   "source": [
    "s + '1'"
   ]
  },
  {
   "cell_type": "code",
   "execution_count": 42,
   "id": "ae8aa282",
   "metadata": {},
   "outputs": [
    {
     "data": {
      "text/plain": [
       "'ineuron1'"
      ]
     },
     "execution_count": 42,
     "metadata": {},
     "output_type": "execute_result"
    }
   ],
   "source": [
    "s+\"1\""
   ]
  },
  {
   "cell_type": "code",
   "execution_count": 43,
   "id": "c9d4c364",
   "metadata": {},
   "outputs": [
    {
     "data": {
      "text/plain": [
       "'ineuron1'"
      ]
     },
     "execution_count": 43,
     "metadata": {},
     "output_type": "execute_result"
    }
   ],
   "source": [
    "s+ str(1)"
   ]
  },
  {
   "cell_type": "code",
   "execution_count": 44,
   "id": "b8adc0f0",
   "metadata": {},
   "outputs": [
    {
     "data": {
      "text/plain": [
       "'sandeep7'"
      ]
     },
     "execution_count": 44,
     "metadata": {},
     "output_type": "execute_result"
    }
   ],
   "source": [
    "a+ str(7)"
   ]
  },
  {
   "cell_type": "code",
   "execution_count": 45,
   "id": "7306bdfb",
   "metadata": {},
   "outputs": [
    {
     "data": {
      "text/plain": [
       "7"
      ]
     },
     "execution_count": 45,
     "metadata": {},
     "output_type": "execute_result"
    }
   ],
   "source": [
    "len(a)"
   ]
  },
  {
   "cell_type": "code",
   "execution_count": 46,
   "id": "d5b3ecb7",
   "metadata": {},
   "outputs": [
    {
     "data": {
      "text/plain": [
       "'sandeepsandeepsandeep'"
      ]
     },
     "execution_count": 46,
     "metadata": {},
     "output_type": "execute_result"
    }
   ],
   "source": [
    "a * 3"
   ]
  },
  {
   "cell_type": "code",
   "execution_count": 47,
   "id": "39011ef3",
   "metadata": {},
   "outputs": [
    {
     "data": {
      "text/plain": [
       "1"
      ]
     },
     "execution_count": 47,
     "metadata": {},
     "output_type": "execute_result"
    }
   ],
   "source": [
    "a.count('a')"
   ]
  },
  {
   "cell_type": "code",
   "execution_count": 48,
   "id": "ef418892",
   "metadata": {},
   "outputs": [
    {
     "data": {
      "text/plain": [
       "2"
      ]
     },
     "execution_count": 48,
     "metadata": {},
     "output_type": "execute_result"
    }
   ],
   "source": [
    "a.count('e')"
   ]
  },
  {
   "cell_type": "code",
   "execution_count": 50,
   "id": "c0491c81",
   "metadata": {},
   "outputs": [
    {
     "data": {
      "text/plain": [
       "0"
      ]
     },
     "execution_count": 50,
     "metadata": {},
     "output_type": "execute_result"
    }
   ],
   "source": [
    "a.count('sd')"
   ]
  },
  {
   "cell_type": "code",
   "execution_count": 53,
   "id": "4b8a02d3",
   "metadata": {},
   "outputs": [
    {
     "data": {
      "text/plain": [
       "['sand', '', 'p']"
      ]
     },
     "execution_count": 53,
     "metadata": {},
     "output_type": "execute_result"
    }
   ],
   "source": [
    "a.split('e')"
   ]
  },
  {
   "cell_type": "code",
   "execution_count": 54,
   "id": "a34edc51",
   "metadata": {},
   "outputs": [],
   "source": [
    "r = \"Realme has been expanding its 9 series in India. The smartphone maker already has six devices in the Realme 9 series in India, which include the Realme 9i, Realme 9 5G, Realme 9 5G Speed Edition, Realme 9 Pro, Realme 9 Pro+, and the latest Realme 9\""
   ]
  },
  {
   "cell_type": "code",
   "execution_count": 55,
   "id": "98aa0238",
   "metadata": {},
   "outputs": [
    {
     "data": {
      "text/plain": [
       "['Realme',\n",
       " 'has',\n",
       " 'been',\n",
       " 'expanding',\n",
       " 'its',\n",
       " '9',\n",
       " 'series',\n",
       " 'in',\n",
       " 'India.',\n",
       " 'The',\n",
       " 'smartphone',\n",
       " 'maker',\n",
       " 'already',\n",
       " 'has',\n",
       " 'six',\n",
       " 'devices',\n",
       " 'in',\n",
       " 'the',\n",
       " 'Realme',\n",
       " '9',\n",
       " 'series',\n",
       " 'in',\n",
       " 'India,',\n",
       " 'which',\n",
       " 'include',\n",
       " 'the',\n",
       " 'Realme',\n",
       " '9i,',\n",
       " 'Realme',\n",
       " '9',\n",
       " '5G,',\n",
       " 'Realme',\n",
       " '9',\n",
       " '5G',\n",
       " 'Speed',\n",
       " 'Edition,',\n",
       " 'Realme',\n",
       " '9',\n",
       " 'Pro,',\n",
       " 'Realme',\n",
       " '9',\n",
       " 'Pro+,',\n",
       " 'and',\n",
       " 'the',\n",
       " 'latest',\n",
       " 'Realme',\n",
       " '9']"
      ]
     },
     "execution_count": 55,
     "metadata": {},
     "output_type": "execute_result"
    }
   ],
   "source": [
    "r.split(\" \")"
   ]
  },
  {
   "cell_type": "code",
   "execution_count": 56,
   "id": "32991506",
   "metadata": {},
   "outputs": [
    {
     "data": {
      "text/plain": [
       "'Realme has been expanding its 9 series in India. The smartphone maker already has six devices in the Realme 9 series in India, which include the Realme 9i, Realme 9 5G, Realme 9 5G Speed Edition, Realme 9 Pro, Realme 9 Pro+, and the latest Realme 9'"
      ]
     },
     "execution_count": 56,
     "metadata": {},
     "output_type": "execute_result"
    }
   ],
   "source": [
    "r"
   ]
  },
  {
   "cell_type": "code",
   "execution_count": 57,
   "id": "0a7b19fb",
   "metadata": {},
   "outputs": [
    {
     "data": {
      "text/plain": [
       "<function str.upper()>"
      ]
     },
     "execution_count": 57,
     "metadata": {},
     "output_type": "execute_result"
    }
   ],
   "source": [
    "r.upper"
   ]
  },
  {
   "cell_type": "code",
   "execution_count": 58,
   "id": "836df22a",
   "metadata": {},
   "outputs": [
    {
     "data": {
      "text/plain": [
       "'REALME HAS BEEN EXPANDING ITS 9 SERIES IN INDIA. THE SMARTPHONE MAKER ALREADY HAS SIX DEVICES IN THE REALME 9 SERIES IN INDIA, WHICH INCLUDE THE REALME 9I, REALME 9 5G, REALME 9 5G SPEED EDITION, REALME 9 PRO, REALME 9 PRO+, AND THE LATEST REALME 9'"
      ]
     },
     "execution_count": 58,
     "metadata": {},
     "output_type": "execute_result"
    }
   ],
   "source": [
    "r.upper()"
   ]
  },
  {
   "cell_type": "code",
   "execution_count": 59,
   "id": "2a039f2a",
   "metadata": {},
   "outputs": [
    {
     "data": {
      "text/plain": [
       "'realme has been expanding its 9 series in india. the smartphone maker already has six devices in the realme 9 series in india, which include the realme 9i, realme 9 5g, realme 9 5g speed edition, realme 9 pro, realme 9 pro+, and the latest realme 9'"
      ]
     },
     "execution_count": 59,
     "metadata": {},
     "output_type": "execute_result"
    }
   ],
   "source": [
    "r.lower()"
   ]
  },
  {
   "cell_type": "code",
   "execution_count": 60,
   "id": "b016d1cd",
   "metadata": {},
   "outputs": [
    {
     "data": {
      "text/plain": [
       "'Realme has been expanding its 9 series in India. The smartphone maker already has six devices in the Realme 9 series in India, which include the Realme 9i, Realme 9 5G, Realme 9 5G Speed Edition, Realme 9 Pro, Realme 9 Pro+, and the latest Realme 9'"
      ]
     },
     "execution_count": 60,
     "metadata": {},
     "output_type": "execute_result"
    }
   ],
   "source": [
    "r"
   ]
  },
  {
   "cell_type": "code",
   "execution_count": 62,
   "id": "a55f0011",
   "metadata": {},
   "outputs": [],
   "source": [
    "r = r.upper()"
   ]
  },
  {
   "cell_type": "code",
   "execution_count": 63,
   "id": "1f94c648",
   "metadata": {},
   "outputs": [
    {
     "data": {
      "text/plain": [
       "'REALME HAS BEEN EXPANDING ITS 9 SERIES IN INDIA. THE SMARTPHONE MAKER ALREADY HAS SIX DEVICES IN THE REALME 9 SERIES IN INDIA, WHICH INCLUDE THE REALME 9I, REALME 9 5G, REALME 9 5G SPEED EDITION, REALME 9 PRO, REALME 9 PRO+, AND THE LATEST REALME 9'"
      ]
     },
     "execution_count": 63,
     "metadata": {},
     "output_type": "execute_result"
    }
   ],
   "source": [
    "r"
   ]
  },
  {
   "cell_type": "code",
   "execution_count": 64,
   "id": "009e294f",
   "metadata": {},
   "outputs": [],
   "source": [
    "r = r.lower()"
   ]
  },
  {
   "cell_type": "code",
   "execution_count": 65,
   "id": "5a985c2b",
   "metadata": {},
   "outputs": [
    {
     "data": {
      "text/plain": [
       "'realme has been expanding its 9 series in india. the smartphone maker already has six devices in the realme 9 series in india, which include the realme 9i, realme 9 5g, realme 9 5g speed edition, realme 9 pro, realme 9 pro+, and the latest realme 9'"
      ]
     },
     "execution_count": 65,
     "metadata": {},
     "output_type": "execute_result"
    }
   ],
   "source": [
    "r"
   ]
  },
  {
   "cell_type": "code",
   "execution_count": 66,
   "id": "b3422551",
   "metadata": {},
   "outputs": [
    {
     "data": {
      "text/plain": [
       "'sandeep'"
      ]
     },
     "execution_count": 66,
     "metadata": {},
     "output_type": "execute_result"
    }
   ],
   "source": [
    "a"
   ]
  },
  {
   "cell_type": "code",
   "execution_count": 67,
   "id": "dde00d83",
   "metadata": {},
   "outputs": [
    {
     "data": {
      "text/plain": [
       "'Sandeep'"
      ]
     },
     "execution_count": 67,
     "metadata": {},
     "output_type": "execute_result"
    }
   ],
   "source": [
    "a.title()"
   ]
  },
  {
   "cell_type": "code",
   "execution_count": 68,
   "id": "727de934",
   "metadata": {},
   "outputs": [
    {
     "data": {
      "text/plain": [
       "'Sandeep'"
      ]
     },
     "execution_count": 68,
     "metadata": {},
     "output_type": "execute_result"
    }
   ],
   "source": [
    "a.capitalize()"
   ]
  },
  {
   "cell_type": "code",
   "execution_count": 69,
   "id": "f617bad6",
   "metadata": {},
   "outputs": [],
   "source": [
    "b = \"sandeep kanaparthi\""
   ]
  },
  {
   "cell_type": "code",
   "execution_count": 70,
   "id": "371e11e2",
   "metadata": {},
   "outputs": [
    {
     "data": {
      "text/plain": [
       "'Sandeep Kanaparthi'"
      ]
     },
     "execution_count": 70,
     "metadata": {},
     "output_type": "execute_result"
    }
   ],
   "source": [
    "b.title()"
   ]
  },
  {
   "cell_type": "code",
   "execution_count": 72,
   "id": "469582af",
   "metadata": {},
   "outputs": [
    {
     "data": {
      "text/plain": [
       "'Sandeep kanaparthi'"
      ]
     },
     "execution_count": 72,
     "metadata": {},
     "output_type": "execute_result"
    }
   ],
   "source": [
    "b.capitalize()"
   ]
  },
  {
   "cell_type": "code",
   "execution_count": 75,
   "id": "86f2c047",
   "metadata": {},
   "outputs": [],
   "source": [
    "b = \"SAndeeP kanAPRTHI\""
   ]
  },
  {
   "cell_type": "code",
   "execution_count": 76,
   "id": "076c2f66",
   "metadata": {},
   "outputs": [
    {
     "data": {
      "text/plain": [
       "'saNDEEp KANaprthi'"
      ]
     },
     "execution_count": 76,
     "metadata": {},
     "output_type": "execute_result"
    }
   ],
   "source": [
    "b.swapcase()"
   ]
  },
  {
   "cell_type": "code",
   "execution_count": 77,
   "id": "4128f240",
   "metadata": {},
   "outputs": [],
   "source": [
    "b = \"  kana parthi \""
   ]
  },
  {
   "cell_type": "code",
   "execution_count": 79,
   "id": "97c267f0",
   "metadata": {},
   "outputs": [
    {
     "data": {
      "text/plain": [
       "'kanaparthi'"
      ]
     },
     "execution_count": 79,
     "metadata": {},
     "output_type": "execute_result"
    }
   ],
   "source": [
    "b.strip()"
   ]
  },
  {
   "cell_type": "code",
   "execution_count": 80,
   "id": "5f1dc908",
   "metadata": {},
   "outputs": [
    {
     "data": {
      "text/plain": [
       "'kanaparthi'"
      ]
     },
     "execution_count": 80,
     "metadata": {},
     "output_type": "execute_result"
    }
   ],
   "source": [
    "b.lstrip()"
   ]
  },
  {
   "cell_type": "code",
   "execution_count": 81,
   "id": "8c3ed201",
   "metadata": {},
   "outputs": [
    {
     "data": {
      "text/plain": [
       "'kanaparthi'"
      ]
     },
     "execution_count": 81,
     "metadata": {},
     "output_type": "execute_result"
    }
   ],
   "source": [
    "b"
   ]
  },
  {
   "cell_type": "code",
   "execution_count": 82,
   "id": "b5ac74da",
   "metadata": {},
   "outputs": [
    {
     "data": {
      "text/plain": [
       "'sandeep'"
      ]
     },
     "execution_count": 82,
     "metadata": {},
     "output_type": "execute_result"
    }
   ],
   "source": [
    "a"
   ]
  },
  {
   "cell_type": "code",
   "execution_count": 83,
   "id": "4161b243",
   "metadata": {},
   "outputs": [
    {
     "data": {
      "text/plain": [
       "False"
      ]
     },
     "execution_count": 83,
     "metadata": {},
     "output_type": "execute_result"
    }
   ],
   "source": [
    "a.isupper()"
   ]
  },
  {
   "cell_type": "code",
   "execution_count": 84,
   "id": "4d15f107",
   "metadata": {},
   "outputs": [
    {
     "data": {
      "text/plain": [
       "True"
      ]
     },
     "execution_count": 84,
     "metadata": {},
     "output_type": "execute_result"
    }
   ],
   "source": [
    "a.islower()"
   ]
  },
  {
   "cell_type": "code",
   "execution_count": 85,
   "id": "ca495e8a",
   "metadata": {},
   "outputs": [
    {
     "data": {
      "text/plain": [
       "False"
      ]
     },
     "execution_count": 85,
     "metadata": {},
     "output_type": "execute_result"
    }
   ],
   "source": [
    "a.isdigit()"
   ]
  },
  {
   "cell_type": "code",
   "execution_count": 92,
   "id": "c6cbd854",
   "metadata": {},
   "outputs": [],
   "source": [
    "z = \"101\""
   ]
  },
  {
   "cell_type": "code",
   "execution_count": 94,
   "id": "8ee070a2",
   "metadata": {},
   "outputs": [
    {
     "data": {
      "text/plain": [
       "True"
      ]
     },
     "execution_count": 94,
     "metadata": {},
     "output_type": "execute_result"
    }
   ],
   "source": [
    "z.isalnum()"
   ]
  },
  {
   "cell_type": "code",
   "execution_count": 95,
   "id": "6167904b",
   "metadata": {},
   "outputs": [
    {
     "data": {
      "text/plain": [
       "True"
      ]
     },
     "execution_count": 95,
     "metadata": {},
     "output_type": "execute_result"
    }
   ],
   "source": [
    "z.isdigit()"
   ]
  },
  {
   "cell_type": "code",
   "execution_count": 96,
   "id": "39c547ca",
   "metadata": {},
   "outputs": [
    {
     "data": {
      "text/plain": [
       "True"
      ]
     },
     "execution_count": 96,
     "metadata": {},
     "output_type": "execute_result"
    }
   ],
   "source": [
    "z.isdecimal()"
   ]
  },
  {
   "cell_type": "code",
   "execution_count": 97,
   "id": "cc9d56ea",
   "metadata": {},
   "outputs": [
    {
     "data": {
      "text/plain": [
       "False"
      ]
     },
     "execution_count": 97,
     "metadata": {},
     "output_type": "execute_result"
    }
   ],
   "source": [
    "z.isalpha()"
   ]
  },
  {
   "cell_type": "code",
   "execution_count": 98,
   "id": "c6d7c4fd",
   "metadata": {},
   "outputs": [
    {
     "data": {
      "text/plain": [
       "True"
      ]
     },
     "execution_count": 98,
     "metadata": {},
     "output_type": "execute_result"
    }
   ],
   "source": [
    "z.startswith(\"1\")"
   ]
  },
  {
   "cell_type": "code",
   "execution_count": 99,
   "id": "0090f72a",
   "metadata": {},
   "outputs": [
    {
     "data": {
      "text/plain": [
       "False"
      ]
     },
     "execution_count": 99,
     "metadata": {},
     "output_type": "execute_result"
    }
   ],
   "source": [
    "z.startswith(\"0\")"
   ]
  },
  {
   "cell_type": "code",
   "execution_count": 100,
   "id": "7ac25eb0",
   "metadata": {},
   "outputs": [
    {
     "data": {
      "text/plain": [
       "'sandeep'"
      ]
     },
     "execution_count": 100,
     "metadata": {},
     "output_type": "execute_result"
    }
   ],
   "source": [
    "a"
   ]
  },
  {
   "cell_type": "code",
   "execution_count": 101,
   "id": "6bc8ce28",
   "metadata": {},
   "outputs": [
    {
     "data": {
      "text/plain": [
       "False"
      ]
     },
     "execution_count": 101,
     "metadata": {},
     "output_type": "execute_result"
    }
   ],
   "source": [
    "a.startswith(\"S\")"
   ]
  },
  {
   "cell_type": "code",
   "execution_count": 102,
   "id": "13bf0a21",
   "metadata": {},
   "outputs": [
    {
     "data": {
      "text/plain": [
       "True"
      ]
     },
     "execution_count": 102,
     "metadata": {},
     "output_type": "execute_result"
    }
   ],
   "source": [
    "a.startswith(\"s\")"
   ]
  },
  {
   "cell_type": "code",
   "execution_count": 103,
   "id": "0df02b11",
   "metadata": {},
   "outputs": [
    {
     "data": {
      "text/plain": [
       "True"
      ]
     },
     "execution_count": 103,
     "metadata": {},
     "output_type": "execute_result"
    }
   ],
   "source": [
    "z.isnumeric()"
   ]
  },
  {
   "cell_type": "code",
   "execution_count": 104,
   "id": "cda5fb19",
   "metadata": {},
   "outputs": [
    {
     "data": {
      "text/plain": [
       "True"
      ]
     },
     "execution_count": 104,
     "metadata": {},
     "output_type": "execute_result"
    }
   ],
   "source": [
    "a.isascii()"
   ]
  },
  {
   "cell_type": "code",
   "execution_count": 105,
   "id": "5ec3128d",
   "metadata": {},
   "outputs": [
    {
     "data": {
      "text/plain": [
       "True"
      ]
     },
     "execution_count": 105,
     "metadata": {},
     "output_type": "execute_result"
    }
   ],
   "source": [
    "z.isascii()"
   ]
  },
  {
   "cell_type": "code",
   "execution_count": 106,
   "id": "885e3f00",
   "metadata": {},
   "outputs": [
    {
     "data": {
      "text/plain": [
       "'ianaeauaraoan'"
      ]
     },
     "execution_count": 106,
     "metadata": {},
     "output_type": "execute_result"
    }
   ],
   "source": [
    "'a'.join(\"ineuron\")"
   ]
  },
  {
   "cell_type": "code",
   "execution_count": 107,
   "id": "7b1135fd",
   "metadata": {},
   "outputs": [
    {
     "data": {
      "text/plain": [
       "'dnas'"
      ]
     },
     "execution_count": 107,
     "metadata": {},
     "output_type": "execute_result"
    }
   ],
   "source": [
    "\"\".join(reversed(\"sand\"))"
   ]
  },
  {
   "cell_type": "code",
   "execution_count": 110,
   "id": "5999c0c1",
   "metadata": {},
   "outputs": [],
   "source": [
    "e = \"snadeep\\tkanaparthi\\tineuron\""
   ]
  },
  {
   "cell_type": "code",
   "execution_count": 111,
   "id": "164855fd",
   "metadata": {},
   "outputs": [
    {
     "data": {
      "text/plain": [
       "'snadeep kanaparthi      ineuron'"
      ]
     },
     "execution_count": 111,
     "metadata": {},
     "output_type": "execute_result"
    }
   ],
   "source": [
    "e.expandtabs()"
   ]
  },
  {
   "cell_type": "code",
   "execution_count": 112,
   "id": "1fd4404d",
   "metadata": {},
   "outputs": [],
   "source": [
    "s = \"this is My First Python programming class i am learNING python string and its function\""
   ]
  },
  {
   "cell_type": "code",
   "execution_count": 113,
   "id": "006da18b",
   "metadata": {},
   "outputs": [
    {
     "data": {
      "text/plain": [
       "'h   r tnrrmgls  aI tntna sutn'"
      ]
     },
     "execution_count": 113,
     "metadata": {},
     "output_type": "execute_result"
    }
   ],
   "source": [
    "s[1:300:3]"
   ]
  },
  {
   "cell_type": "code",
   "execution_count": null,
   "id": "e22557ec",
   "metadata": {},
   "outputs": [],
   "source": []
  }
 ],
 "metadata": {
  "kernelspec": {
   "display_name": "Python 3 (ipykernel)",
   "language": "python",
   "name": "python3"
  },
  "language_info": {
   "codemirror_mode": {
    "name": "ipython",
    "version": 3
   },
   "file_extension": ".py",
   "mimetype": "text/x-python",
   "name": "python",
   "nbconvert_exporter": "python",
   "pygments_lexer": "ipython3",
   "version": "3.9.12"
  }
 },
 "nbformat": 4,
 "nbformat_minor": 5
}
